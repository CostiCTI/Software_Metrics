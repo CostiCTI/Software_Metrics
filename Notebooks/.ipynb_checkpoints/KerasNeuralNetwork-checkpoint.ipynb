{
 "cells": [
  {
   "cell_type": "code",
   "execution_count": 32,
   "metadata": {},
   "outputs": [],
   "source": [
    "#import libraries that we need\n",
    "\n",
    "import numpy as np \n",
    "import pandas as pd\n",
    "\n",
    "from keras.models import Sequential \n",
    "from keras.layers import Dense,Activation,Dropout,Lambda \n",
    "from keras.layers.normalization import BatchNormalization \n",
    "from keras.utils import np_utils\n",
    "from keras.models import model_from_json\n",
    "\n",
    "from sklearn.preprocessing import normalize"
   ]
  },
  {
   "cell_type": "code",
   "execution_count": 36,
   "metadata": {},
   "outputs": [],
   "source": [
    "#Read data from csv file \n",
    "df = pd.read_csv(\"../data/promise/complete_set.csv\")"
   ]
  },
  {
   "cell_type": "code",
   "execution_count": 37,
   "metadata": {},
   "outputs": [],
   "source": [
    "df['bugs'] = np.where(df['bug'] > 0, 1, 0)"
   ]
  },
  {
   "cell_type": "code",
   "execution_count": 38,
   "metadata": {},
   "outputs": [],
   "source": [
    "df = df.drop('bug', 1)"
   ]
  },
  {
   "cell_type": "code",
   "execution_count": 39,
   "metadata": {},
   "outputs": [
    {
     "data": {
      "text/html": [
       "<div>\n",
       "<style scoped>\n",
       "    .dataframe tbody tr th:only-of-type {\n",
       "        vertical-align: middle;\n",
       "    }\n",
       "\n",
       "    .dataframe tbody tr th {\n",
       "        vertical-align: top;\n",
       "    }\n",
       "\n",
       "    .dataframe thead th {\n",
       "        text-align: right;\n",
       "    }\n",
       "</style>\n",
       "<table border=\"1\" class=\"dataframe\">\n",
       "  <thead>\n",
       "    <tr style=\"text-align: right;\">\n",
       "      <th></th>\n",
       "      <th>wmc</th>\n",
       "      <th>dit</th>\n",
       "      <th>noc</th>\n",
       "      <th>cbo</th>\n",
       "      <th>rfc</th>\n",
       "      <th>lcom</th>\n",
       "      <th>ca</th>\n",
       "      <th>ce</th>\n",
       "      <th>npm</th>\n",
       "      <th>lcom3</th>\n",
       "      <th>...</th>\n",
       "      <th>dam</th>\n",
       "      <th>moa</th>\n",
       "      <th>mfa</th>\n",
       "      <th>cam</th>\n",
       "      <th>ic</th>\n",
       "      <th>cbm</th>\n",
       "      <th>amc</th>\n",
       "      <th>max_cc</th>\n",
       "      <th>avg_cc</th>\n",
       "      <th>bugs</th>\n",
       "    </tr>\n",
       "  </thead>\n",
       "  <tbody>\n",
       "    <tr>\n",
       "      <th>0</th>\n",
       "      <td>16</td>\n",
       "      <td>3</td>\n",
       "      <td>0</td>\n",
       "      <td>6</td>\n",
       "      <td>52</td>\n",
       "      <td>112</td>\n",
       "      <td>1</td>\n",
       "      <td>5</td>\n",
       "      <td>11</td>\n",
       "      <td>0.777778</td>\n",
       "      <td>...</td>\n",
       "      <td>1.000</td>\n",
       "      <td>0</td>\n",
       "      <td>0.740000</td>\n",
       "      <td>0.344444</td>\n",
       "      <td>2</td>\n",
       "      <td>8</td>\n",
       "      <td>30.625000</td>\n",
       "      <td>1</td>\n",
       "      <td>0.8125</td>\n",
       "      <td>0</td>\n",
       "    </tr>\n",
       "    <tr>\n",
       "      <th>1</th>\n",
       "      <td>12</td>\n",
       "      <td>2</td>\n",
       "      <td>14</td>\n",
       "      <td>23</td>\n",
       "      <td>23</td>\n",
       "      <td>0</td>\n",
       "      <td>17</td>\n",
       "      <td>8</td>\n",
       "      <td>12</td>\n",
       "      <td>0.363636</td>\n",
       "      <td>...</td>\n",
       "      <td>1.000</td>\n",
       "      <td>2</td>\n",
       "      <td>0.731707</td>\n",
       "      <td>0.218750</td>\n",
       "      <td>1</td>\n",
       "      <td>7</td>\n",
       "      <td>11.250000</td>\n",
       "      <td>5</td>\n",
       "      <td>1.5833</td>\n",
       "      <td>0</td>\n",
       "    </tr>\n",
       "    <tr>\n",
       "      <th>2</th>\n",
       "      <td>53</td>\n",
       "      <td>1</td>\n",
       "      <td>0</td>\n",
       "      <td>34</td>\n",
       "      <td>150</td>\n",
       "      <td>1362</td>\n",
       "      <td>22</td>\n",
       "      <td>15</td>\n",
       "      <td>49</td>\n",
       "      <td>1.001603</td>\n",
       "      <td>...</td>\n",
       "      <td>0.375</td>\n",
       "      <td>0</td>\n",
       "      <td>0.000000</td>\n",
       "      <td>0.125000</td>\n",
       "      <td>0</td>\n",
       "      <td>0</td>\n",
       "      <td>37.962264</td>\n",
       "      <td>49</td>\n",
       "      <td>4.3962</td>\n",
       "      <td>1</td>\n",
       "    </tr>\n",
       "    <tr>\n",
       "      <th>3</th>\n",
       "      <td>49</td>\n",
       "      <td>3</td>\n",
       "      <td>2</td>\n",
       "      <td>43</td>\n",
       "      <td>100</td>\n",
       "      <td>1176</td>\n",
       "      <td>34</td>\n",
       "      <td>12</td>\n",
       "      <td>46</td>\n",
       "      <td>1.000000</td>\n",
       "      <td>...</td>\n",
       "      <td>0.000</td>\n",
       "      <td>1</td>\n",
       "      <td>0.606838</td>\n",
       "      <td>0.122222</td>\n",
       "      <td>3</td>\n",
       "      <td>21</td>\n",
       "      <td>14.142857</td>\n",
       "      <td>16</td>\n",
       "      <td>1.8571</td>\n",
       "      <td>0</td>\n",
       "    </tr>\n",
       "    <tr>\n",
       "      <th>4</th>\n",
       "      <td>1</td>\n",
       "      <td>1</td>\n",
       "      <td>0</td>\n",
       "      <td>5</td>\n",
       "      <td>1</td>\n",
       "      <td>0</td>\n",
       "      <td>5</td>\n",
       "      <td>1</td>\n",
       "      <td>1</td>\n",
       "      <td>2.000000</td>\n",
       "      <td>...</td>\n",
       "      <td>0.000</td>\n",
       "      <td>0</td>\n",
       "      <td>0.000000</td>\n",
       "      <td>1.000000</td>\n",
       "      <td>0</td>\n",
       "      <td>0</td>\n",
       "      <td>0.000000</td>\n",
       "      <td>1</td>\n",
       "      <td>1.0000</td>\n",
       "      <td>0</td>\n",
       "    </tr>\n",
       "  </tbody>\n",
       "</table>\n",
       "<p>5 rows × 21 columns</p>\n",
       "</div>"
      ],
      "text/plain": [
       "   wmc  dit  noc  cbo  rfc  lcom  ca  ce  npm     lcom3  ...     dam  moa  \\\n",
       "0   16    3    0    6   52   112   1   5   11  0.777778  ...   1.000    0   \n",
       "1   12    2   14   23   23     0  17   8   12  0.363636  ...   1.000    2   \n",
       "2   53    1    0   34  150  1362  22  15   49  1.001603  ...   0.375    0   \n",
       "3   49    3    2   43  100  1176  34  12   46  1.000000  ...   0.000    1   \n",
       "4    1    1    0    5    1     0   5   1    1  2.000000  ...   0.000    0   \n",
       "\n",
       "        mfa       cam  ic  cbm        amc  max_cc  avg_cc  bugs  \n",
       "0  0.740000  0.344444   2    8  30.625000       1  0.8125     0  \n",
       "1  0.731707  0.218750   1    7  11.250000       5  1.5833     0  \n",
       "2  0.000000  0.125000   0    0  37.962264      49  4.3962     1  \n",
       "3  0.606838  0.122222   3   21  14.142857      16  1.8571     0  \n",
       "4  0.000000  1.000000   0    0   0.000000       1  1.0000     0  \n",
       "\n",
       "[5 rows x 21 columns]"
      ]
     },
     "execution_count": 39,
     "metadata": {},
     "output_type": "execute_result"
    }
   ],
   "source": [
    "df.head()"
   ]
  },
  {
   "cell_type": "code",
   "execution_count": 41,
   "metadata": {},
   "outputs": [],
   "source": [
    "#split data into training features and and target features \n",
    "data = df.iloc[:,0:20].values\n",
    "target = df.iloc[:,20].values"
   ]
  },
  {
   "cell_type": "code",
   "execution_count": 42,
   "metadata": {},
   "outputs": [],
   "source": [
    "nor_data = normalize(data, axis=0)"
   ]
  },
  {
   "cell_type": "code",
   "execution_count": 43,
   "metadata": {},
   "outputs": [],
   "source": [
    "# split data into training data and testing data\n",
    "l = len(df)\n",
    "l_train = int(0.8 * l)\n",
    "l_test  = int(0.2 * l)\n",
    "\n",
    "data_train = nor_data[:l_train]\n",
    "data_test  = nor_data[l_train:]\n",
    "\n",
    "target_train = target[:l_train]\n",
    "target_test  = target[l_train:]"
   ]
  },
  {
   "cell_type": "code",
   "execution_count": 44,
   "metadata": {},
   "outputs": [],
   "source": [
    "# Transform target in one hot vector (to use softmax)\n",
    "# 0 become [1 0]\n",
    "# 1 become [0 1]\n",
    "target_train = np_utils.to_categorical(target_train, num_classes=2)\n",
    "target_test  = np_utils.to_categorical(target_test, num_classes=2)"
   ]
  },
  {
   "cell_type": "code",
   "execution_count": 47,
   "metadata": {},
   "outputs": [],
   "source": [
    "model = Sequential()\n",
    "\n",
    "model.add(Dense(2000,input_dim=20,activation='relu'))\n",
    "model.add(Dense(1000,activation='relu'))\n",
    "model.add(Dense(500,activation='relu'))\n",
    "model.add(Dropout(0.2))\n",
    "model.add(Dense(2,activation='softmax'))\n",
    "model.compile(loss='categorical_crossentropy',optimizer='adam',metrics=['accuracy'])"
   ]
  },
  {
   "cell_type": "code",
   "execution_count": 48,
   "metadata": {},
   "outputs": [
    {
     "name": "stdout",
     "output_type": "stream",
     "text": [
      "Train on 69023 samples, validate on 17256 samples\n",
      "Epoch 1/2\n",
      "69023/69023 [==============================] - 421s 6ms/step - loss: 0.4462 - acc: 0.8242 - val_loss: 0.3765 - val_acc: 0.8775\n",
      "Epoch 2/2\n",
      "69023/69023 [==============================] - 424s 6ms/step - loss: 0.4369 - acc: 0.8246 - val_loss: 0.3645 - val_acc: 0.8775\n"
     ]
    },
    {
     "data": {
      "text/plain": [
       "<keras.callbacks.History at 0x1ec2717bb70>"
      ]
     },
     "execution_count": 48,
     "metadata": {},
     "output_type": "execute_result"
    }
   ],
   "source": [
    "model.fit(data_train,target_train,validation_data=(data_test,target_test),batch_size=10,epochs=200,verbose=1)"
   ]
  },
  {
   "cell_type": "code",
   "execution_count": 49,
   "metadata": {},
   "outputs": [
    {
     "name": "stdout",
     "output_type": "stream",
     "text": [
      "Accuracy:  87.7549837738\n"
     ]
    }
   ],
   "source": [
    "# check accuracy\n",
    "pred = model.predict(data_test)\n",
    "size = len(pred)\n",
    "y       = np.argmax(target_test, axis=1)\n",
    "predict = np.argmax(pred, axis=1)\n",
    "\n",
    "accuracy = np.sum(y == predict) / size * 100\n",
    "print (\"Accuracy: \", accuracy )"
   ]
  },
  {
   "cell_type": "code",
   "execution_count": 50,
   "metadata": {},
   "outputs": [],
   "source": [
    "def save_model(m, file_name):\n",
    "\n",
    "    model_json = m.to_json()\n",
    "    with open(file_name + \".json\", \"w\") as json_file:\n",
    "        json_file.write(model_json)\n",
    "    m.save_weights(file_name + \".h5\")\n",
    "    \n",
    "    print (\"Model saved!\")"
   ]
  },
  {
   "cell_type": "code",
   "execution_count": 51,
   "metadata": {},
   "outputs": [],
   "source": [
    "def load_model(file_name):\n",
    "\n",
    "    json_file = open(file_name + \".json\", 'r')\n",
    "    model_json = json_file.read()\n",
    "    json_file.close()\n",
    "\n",
    "    m = model_from_json(model_json)\n",
    "    m.load_weights(file_name + \".h5\")\n",
    "\n",
    "    print(\"Model loaded!\")\n",
    "    return m"
   ]
  },
  {
   "cell_type": "code",
   "execution_count": 52,
   "metadata": {},
   "outputs": [
    {
     "name": "stdout",
     "output_type": "stream",
     "text": [
      "Model saved!\n"
     ]
    }
   ],
   "source": [
    "save_model(model, \"KerasModelCK\")"
   ]
  },
  {
   "cell_type": "code",
   "execution_count": 53,
   "metadata": {},
   "outputs": [
    {
     "name": "stdout",
     "output_type": "stream",
     "text": [
      "Model loaded!\n"
     ]
    }
   ],
   "source": [
    "#load model and check accuracy\n",
    "new_model = load_model('KerasModelCK')"
   ]
  },
  {
   "cell_type": "code",
   "execution_count": 54,
   "metadata": {},
   "outputs": [
    {
     "name": "stdout",
     "output_type": "stream",
     "text": [
      "Accuracy:  87.7549837738\n"
     ]
    }
   ],
   "source": [
    "pred = new_model.predict(data_test)\n",
    "size = len(pred)\n",
    "y       = np.argmax(target_test, axis=1)\n",
    "predict = np.argmax(pred, axis=1)\n",
    "\n",
    "accuracy = np.sum(y == predict) / size * 100\n",
    "print (\"Accuracy: \", accuracy )"
   ]
  },
  {
   "cell_type": "code",
   "execution_count": null,
   "metadata": {},
   "outputs": [],
   "source": []
  }
 ],
 "metadata": {
  "kernelspec": {
   "display_name": "Python 3",
   "language": "python",
   "name": "python3"
  },
  "language_info": {
   "codemirror_mode": {
    "name": "ipython",
    "version": 3
   },
   "file_extension": ".py",
   "mimetype": "text/x-python",
   "name": "python",
   "nbconvert_exporter": "python",
   "pygments_lexer": "ipython3",
   "version": "3.5.4"
  }
 },
 "nbformat": 4,
 "nbformat_minor": 2
}
