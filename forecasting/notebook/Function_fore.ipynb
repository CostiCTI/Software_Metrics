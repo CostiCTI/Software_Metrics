{
 "cells": [
  {
   "cell_type": "code",
   "execution_count": 2,
   "metadata": {},
   "outputs": [],
   "source": [
    "from __future__ import print_function\n",
    "import numpy as np # linear algebra\n",
    "import pandas as pd # data processing, CSV file I/O (e.g. pd.read_csv)\n",
    "from keras.layers.core import Dense, Activation, Dropout\n",
    "from keras.layers.recurrent import LSTM\n",
    "from keras.models import Sequential\n",
    "from sklearn.cross_validation import  train_test_split\n",
    "from sklearn.preprocessing import MinMaxScaler\n",
    "from sklearn.metrics import mean_squared_error\n",
    "import matplotlib.pyplot as plt\n",
    "import math\n",
    "\n",
    "# to not display the warnings of tensorflow\n",
    "import os\n",
    "os.environ['TF_CPP_MIN_LOG_LEVEL']='2'"
   ]
  },
  {
   "cell_type": "code",
   "execution_count": 3,
   "metadata": {},
   "outputs": [],
   "source": [
    "def create_dataset(dataset, look_back):\n",
    "    dataX, dataY = [], []\n",
    "    for i in range(len(dataset)-look_back-1):\n",
    "        a = dataset[i:(i+look_back), 0]\n",
    "        dataX.append(a)\n",
    "        dataY.append(dataset[i + look_back, 0])\n",
    "    return np.array(dataX), np.array(dataY)"
   ]
  },
  {
   "cell_type": "code",
   "execution_count": 34,
   "metadata": {},
   "outputs": [],
   "source": [
    "def get_forecasting(values):\n",
    "    look_back = 5\n",
    "    nepochs = 200\n",
    "    batch_size = 32\n",
    "\n",
    "    dataset = values\n",
    "    for i in range(len(dataset)):\n",
    "        dataset[i] = [dataset[i]]\n",
    "    scaler = MinMaxScaler(feature_range=(0, 1))\n",
    "    dataset = scaler.fit_transform(dataset)\n",
    "    train = np.array(dataset)\n",
    "    trainX, trainY = create_dataset(train, look_back)\n",
    "    trainX = np.reshape(trainX, (trainX.shape[0], trainX.shape[1], 1))\n",
    "    \n",
    "    # create and fit the LSTM network\n",
    "    model = Sequential()\n",
    "    model.add(LSTM(8, input_shape=(look_back, 1)))\n",
    "    model.add(Dense(1))\n",
    "    model.compile(loss='mse', optimizer='adam')\n",
    "    model.fit(trainX, trainY, epochs=nepochs, batch_size=batch_size, verbose=0)\n",
    "    \n",
    "    l = trainX[len(trainX) - 1]\n",
    "    s = [list(x) for x in l]\n",
    "    prediction = []\n",
    "    for it in range(10):\n",
    "        t = np.array([s])\n",
    "        pred = model.predict(t)\n",
    "        predt = scaler.inverse_transform(pred)\n",
    "        k = []\n",
    "        for i in range(1, len(s)):\n",
    "            k.append(s[i])\n",
    "        k.append(list(pred[0]))\n",
    "        s = k\n",
    "        prediction.append(int(predt))\n",
    "    return prediction"
   ]
  },
  {
   "cell_type": "code",
   "execution_count": 35,
   "metadata": {},
   "outputs": [],
   "source": [
    "data = [40, 50, 80, 100, 84, 98, 130, 125,\n",
    "                    140, 180, 202, 219, 231, 207, 230,\n",
    "                    250, 277, 291, 302, 315, 300,\n",
    "                    312, 348, 367, 380, 350, 261, 289,\n",
    "                    320, 390, 430, 467, 419, 422, 489,\n",
    "                    512, 560, 620, 650, 710, 730, 722, 780,\n",
    "                    820, 892, 878, 902, 950, 961, 988, 946]"
   ]
  },
  {
   "cell_type": "code",
   "execution_count": 36,
   "metadata": {},
   "outputs": [
    {
     "name": "stdout",
     "output_type": "stream",
     "text": [
      "[1040, 1070, 1111, 1156, 1198, 1248, 1288, 1330, 1370, 1409]\n"
     ]
    }
   ],
   "source": [
    "p = get_forecasting(data)\n",
    "print (p)"
   ]
  },
  {
   "cell_type": "code",
   "execution_count": null,
   "metadata": {},
   "outputs": [],
   "source": []
  },
  {
   "cell_type": "code",
   "execution_count": null,
   "metadata": {},
   "outputs": [],
   "source": []
  }
 ],
 "metadata": {
  "kernelspec": {
   "display_name": "Python 3",
   "language": "python",
   "name": "python3"
  },
  "language_info": {
   "codemirror_mode": {
    "name": "ipython",
    "version": 3
   },
   "file_extension": ".py",
   "mimetype": "text/x-python",
   "name": "python",
   "nbconvert_exporter": "python",
   "pygments_lexer": "ipython3",
   "version": "3.5.4"
  }
 },
 "nbformat": 4,
 "nbformat_minor": 2
}
