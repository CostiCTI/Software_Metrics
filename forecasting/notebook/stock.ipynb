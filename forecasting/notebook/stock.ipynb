{
 "cells": [
  {
   "cell_type": "code",
   "execution_count": 1,
   "metadata": {},
   "outputs": [
    {
     "name": "stderr",
     "output_type": "stream",
     "text": [
      "c:\\users\\costi\\appdata\\local\\programs\\python\\python35\\lib\\site-packages\\h5py\\__init__.py:36: FutureWarning: Conversion of the second argument of issubdtype from `float` to `np.floating` is deprecated. In future, it will be treated as `np.float64 == np.dtype(float).type`.\n",
      "  from ._conv import register_converters as _register_converters\n",
      "Using TensorFlow backend.\n",
      "c:\\users\\costi\\appdata\\local\\programs\\python\\python35\\lib\\site-packages\\sklearn\\cross_validation.py:41: DeprecationWarning: This module was deprecated in version 0.18 in favor of the model_selection module into which all the refactored classes and functions are moved. Also note that the interface of the new CV iterators are different from that of this module. This module will be removed in 0.20.\n",
      "  \"This module will be removed in 0.20.\", DeprecationWarning)\n"
     ]
    }
   ],
   "source": [
    "from __future__ import print_function\n",
    "import numpy as np # linear algebra\n",
    "import pandas as pd # data processing, CSV file I/O (e.g. pd.read_csv)\n",
    "from keras.layers.core import Dense, Activation, Dropout\n",
    "from keras.layers.recurrent import LSTM\n",
    "from keras.models import Sequential\n",
    "from sklearn.cross_validation import  train_test_split\n",
    "from sklearn.preprocessing import MinMaxScaler\n",
    "from sklearn.metrics import mean_squared_error\n",
    "import matplotlib.pyplot as plt\n",
    "import math\n",
    "\n",
    "# to not display the warnings of tensorflow\n",
    "import os\n",
    "os.environ['TF_CPP_MIN_LOG_LEVEL']='2'"
   ]
  },
  {
   "cell_type": "code",
   "execution_count": 2,
   "metadata": {},
   "outputs": [],
   "source": [
    "# parameters to be set (\"optimum\" hyperparameters obtained from grid search):\n",
    "look_back = 7\n",
    "epochs = 1000\n",
    "batch_size = 32"
   ]
  },
  {
   "cell_type": "code",
   "execution_count": 3,
   "metadata": {},
   "outputs": [],
   "source": [
    "# fix random seed for reproducibility\n",
    "np.random.seed(7)"
   ]
  },
  {
   "cell_type": "code",
   "execution_count": 5,
   "metadata": {},
   "outputs": [],
   "source": [
    "# read all prices using panda\n",
    "prices_dataset =  pd.read_csv('prices-split-adjusted.csv', header=0)"
   ]
  },
  {
   "cell_type": "code",
   "execution_count": 6,
   "metadata": {},
   "outputs": [],
   "source": [
    "# filter out only data of Apple\n",
    "apple = prices_dataset[prices_dataset['symbol']=='AAPL']"
   ]
  },
  {
   "cell_type": "code",
   "execution_count": 7,
   "metadata": {},
   "outputs": [],
   "source": [
    "# save Apple's stock values as type of floating point number\n",
    "apple_stock_prices = apple.close.values.astype('float32')"
   ]
  },
  {
   "cell_type": "code",
   "execution_count": 8,
   "metadata": {},
   "outputs": [],
   "source": [
    "# reshape to column vector\n",
    "apple_stock_prices = apple_stock_prices.reshape(len(apple_stock_prices), 1)"
   ]
  },
  {
   "cell_type": "code",
   "execution_count": 9,
   "metadata": {},
   "outputs": [],
   "source": [
    "# normalize the dataset\n",
    "scaler = MinMaxScaler(feature_range=(0, 1))\n",
    "apple_stock_prices = scaler.fit_transform(apple_stock_prices)"
   ]
  },
  {
   "cell_type": "code",
   "execution_count": 10,
   "metadata": {},
   "outputs": [
    {
     "name": "stdout",
     "output_type": "stream",
     "text": [
      "Split data into training set and test set... Number of training samples/ test samples: 1180 582\n"
     ]
    }
   ],
   "source": [
    "# split data into training set and test set\n",
    "train_size = int(len(apple_stock_prices) * 0.67)\n",
    "test_size = len(apple_stock_prices) - train_size\n",
    "train, test = apple_stock_prices[0:train_size,:], apple_stock_prices[train_size:len(apple_stock_prices),:]\n",
    "\n",
    "print('Split data into training set and test set... Number of training samples/ test samples:', len(train), len(test))"
   ]
  },
  {
   "cell_type": "code",
   "execution_count": 24,
   "metadata": {},
   "outputs": [
    {
     "data": {
      "text/plain": [
       "array([[0.02971783],\n",
       "       [0.03021854],\n",
       "       [0.02560389],\n",
       "       ...,\n",
       "       [0.6718587 ],\n",
       "       [0.66835374],\n",
       "       [0.6968672 ]], dtype=float32)"
      ]
     },
     "execution_count": 24,
     "metadata": {},
     "output_type": "execute_result"
    }
   ],
   "source": [
    "train"
   ]
  },
  {
   "cell_type": "code",
   "execution_count": 22,
   "metadata": {},
   "outputs": [],
   "source": [
    "# convert an array of values into a time series dataset \n",
    "# in form \n",
    "#                     X                     Y\n",
    "# t-look_back+1, t-look_back+2, ..., t     t+1\n",
    "\n",
    "def create_dataset(dataset, look_back):\n",
    "\tdataX, dataY = [], []\n",
    "\tfor i in range(len(dataset)-look_back-1):\n",
    "\t\ta = dataset[i:(i+look_back), 0]\n",
    "\t\tdataX.append(a)\n",
    "\t\tdataY.append(dataset[i + look_back, 0])\n",
    "\treturn np.array(dataX), np.array(dataY)\n",
    "\n",
    "# convert Apple's stock price data into time series dataset\n",
    "trainX, trainY = create_dataset(train, look_back)\n",
    "testX, testY = create_dataset(test, look_back)"
   ]
  },
  {
   "cell_type": "code",
   "execution_count": 25,
   "metadata": {},
   "outputs": [
    {
     "data": {
      "text/plain": [
       "array([0.02517086, 0.02351987, 0.01878342, ..., 0.6776372 , 0.6718587 ,\n",
       "       0.66835374], dtype=float32)"
      ]
     },
     "execution_count": 25,
     "metadata": {},
     "output_type": "execute_result"
    }
   ],
   "source": [
    "trainY"
   ]
  },
  {
   "cell_type": "code",
   "execution_count": 12,
   "metadata": {},
   "outputs": [],
   "source": [
    "# reshape input of the LSTM to be format [samples, time steps, features]\n",
    "trainX = np.reshape(trainX, (trainX.shape[0], trainX.shape[1], 1))\n",
    "testX = np.reshape(testX, (testX.shape[0], testX.shape[1], 1))"
   ]
  },
  {
   "cell_type": "code",
   "execution_count": 21,
   "metadata": {},
   "outputs": [
    {
     "data": {
      "text/plain": [
       "array([[[0.02971783],\n",
       "        [0.03021854],\n",
       "        [0.02560389],\n",
       "        ...,\n",
       "        [0.02697071],\n",
       "        [0.02444008],\n",
       "        [0.02120578]],\n",
       "\n",
       "       [[0.03021854],\n",
       "        [0.02560389],\n",
       "        [0.02507612],\n",
       "        ...,\n",
       "        [0.02444008],\n",
       "        [0.02120578],\n",
       "        [0.02517086]],\n",
       "\n",
       "       [[0.02560389],\n",
       "        [0.02507612],\n",
       "        [0.02697071],\n",
       "        ...,\n",
       "        [0.02120578],\n",
       "        [0.02517086],\n",
       "        [0.02351987]],\n",
       "\n",
       "       ...,\n",
       "\n",
       "       [[0.69582516],\n",
       "        [0.70757157],\n",
       "        [0.70870835],\n",
       "        ...,\n",
       "        [0.71865493],\n",
       "        [0.677353  ],\n",
       "        [0.6695853 ]],\n",
       "\n",
       "       [[0.70757157],\n",
       "        [0.70870835],\n",
       "        [0.71107656],\n",
       "        ...,\n",
       "        [0.677353  ],\n",
       "        [0.6695853 ],\n",
       "        [0.6776372 ]],\n",
       "\n",
       "       [[0.70870835],\n",
       "        [0.71107656],\n",
       "        [0.71865493],\n",
       "        ...,\n",
       "        [0.6695853 ],\n",
       "        [0.6776372 ],\n",
       "        [0.6718587 ]]], dtype=float32)"
      ]
     },
     "execution_count": 21,
     "metadata": {},
     "output_type": "execute_result"
    }
   ],
   "source": [
    "trainX"
   ]
  },
  {
   "cell_type": "code",
   "execution_count": 14,
   "metadata": {},
   "outputs": [
    {
     "name": "stderr",
     "output_type": "stream",
     "text": [
      "c:\\users\\costi\\appdata\\local\\programs\\python\\python35\\lib\\site-packages\\keras\\models.py:942: UserWarning: The `nb_epoch` argument in `fit` has been renamed `epochs`.\n",
      "  warnings.warn('The `nb_epoch` argument in `fit` '\n"
     ]
    },
    {
     "name": "stdout",
     "output_type": "stream",
     "text": [
      "Epoch 1/200\n",
      "1172/1172 [==============================] - 1s 1ms/step - loss: 0.2066\n",
      "Epoch 2/200\n",
      "1172/1172 [==============================] - 0s 156us/step - loss: 0.0867\n",
      "Epoch 3/200\n",
      "1172/1172 [==============================] - 0s 156us/step - loss: 0.0343\n",
      "Epoch 4/200\n",
      "1172/1172 [==============================] - 0s 162us/step - loss: 0.0211\n",
      "Epoch 5/200\n",
      "1172/1172 [==============================] - 0s 159us/step - loss: 0.0173\n",
      "Epoch 6/200\n",
      "1172/1172 [==============================] - 0s 157us/step - loss: 0.0138\n",
      "Epoch 7/200\n",
      "1172/1172 [==============================] - 0s 177us/step - loss: 0.0105\n",
      "Epoch 8/200\n",
      "1172/1172 [==============================] - 0s 169us/step - loss: 0.0076\n",
      "Epoch 9/200\n",
      "1172/1172 [==============================] - 0s 178us/step - loss: 0.0052\n",
      "Epoch 10/200\n",
      "1172/1172 [==============================] - 0s 181us/step - loss: 0.0033\n",
      "Epoch 11/200\n",
      "1172/1172 [==============================] - 0s 167us/step - loss: 0.0020\n",
      "Epoch 12/200\n",
      "1172/1172 [==============================] - 0s 181us/step - loss: 0.0013\n",
      "Epoch 13/200\n",
      "1172/1172 [==============================] - 0s 169us/step - loss: 8.9963e-04\n",
      "Epoch 14/200\n",
      "1172/1172 [==============================] - 0s 176us/step - loss: 7.1633e-04\n",
      "Epoch 15/200\n",
      "1172/1172 [==============================] - 0s 174us/step - loss: 6.4037e-04\n",
      "Epoch 16/200\n",
      "1172/1172 [==============================] - 0s 188us/step - loss: 6.0620e-04\n",
      "Epoch 17/200\n",
      "1172/1172 [==============================] - 0s 163us/step - loss: 5.8997e-04\n",
      "Epoch 18/200\n",
      "1172/1172 [==============================] - 0s 177us/step - loss: 5.7999e-04\n",
      "Epoch 19/200\n",
      "1172/1172 [==============================] - 0s 170us/step - loss: 5.7237e-04\n",
      "Epoch 20/200\n",
      "1172/1172 [==============================] - 0s 167us/step - loss: 5.6032e-04\n",
      "Epoch 21/200\n",
      "1172/1172 [==============================] - 0s 166us/step - loss: 5.5212e-04\n",
      "Epoch 22/200\n",
      "1172/1172 [==============================] - 0s 163us/step - loss: 5.4171e-04\n",
      "Epoch 23/200\n",
      "1172/1172 [==============================] - 0s 186us/step - loss: 5.3413e-04\n",
      "Epoch 24/200\n",
      "1172/1172 [==============================] - 0s 154us/step - loss: 5.2869e-04\n",
      "Epoch 25/200\n",
      "1172/1172 [==============================] - 0s 170us/step - loss: 5.1979e-04\n",
      "Epoch 26/200\n",
      "1172/1172 [==============================] - 0s 183us/step - loss: 5.1293e-04\n",
      "Epoch 27/200\n",
      "1172/1172 [==============================] - 0s 161us/step - loss: 5.0601e-04\n",
      "Epoch 28/200\n",
      "1172/1172 [==============================] - 0s 185us/step - loss: 4.9954e-04\n",
      "Epoch 29/200\n",
      "1172/1172 [==============================] - 0s 162us/step - loss: 4.9394e-04\n",
      "Epoch 30/200\n",
      "1172/1172 [==============================] - 0s 180us/step - loss: 4.8736e-04\n",
      "Epoch 31/200\n",
      "1172/1172 [==============================] - 0s 171us/step - loss: 4.8299e-04\n",
      "Epoch 32/200\n",
      "1172/1172 [==============================] - 0s 177us/step - loss: 4.7890e-04\n",
      "Epoch 33/200\n",
      "1172/1172 [==============================] - 0s 183us/step - loss: 4.7505e-04\n",
      "Epoch 34/200\n",
      "1172/1172 [==============================] - 0s 172us/step - loss: 4.7378e-04\n",
      "Epoch 35/200\n",
      "1172/1172 [==============================] - 0s 161us/step - loss: 4.6622e-04\n",
      "Epoch 36/200\n",
      "1172/1172 [==============================] - 0s 167us/step - loss: 4.6125e-04\n",
      "Epoch 37/200\n",
      "1172/1172 [==============================] - 0s 164us/step - loss: 4.5926e-04\n",
      "Epoch 38/200\n",
      "1172/1172 [==============================] - 0s 164us/step - loss: 4.5523e-04\n",
      "Epoch 39/200\n",
      "1172/1172 [==============================] - 0s 166us/step - loss: 4.5357e-04\n",
      "Epoch 40/200\n",
      "1172/1172 [==============================] - 0s 170us/step - loss: 4.5243e-04\n",
      "Epoch 41/200\n",
      "1172/1172 [==============================] - 0s 162us/step - loss: 4.5039e-04\n",
      "Epoch 42/200\n",
      "1172/1172 [==============================] - 0s 165us/step - loss: 4.4469e-04\n",
      "Epoch 43/200\n",
      "1172/1172 [==============================] - 0s 169us/step - loss: 4.4219e-04\n",
      "Epoch 44/200\n",
      "1172/1172 [==============================] - 0s 185us/step - loss: 4.3995e-04\n",
      "Epoch 45/200\n",
      "1172/1172 [==============================] - 0s 169us/step - loss: 4.4032e-04\n",
      "Epoch 46/200\n",
      "1172/1172 [==============================] - 0s 188us/step - loss: 4.3615e-04\n",
      "Epoch 47/200\n",
      "1172/1172 [==============================] - 0s 180us/step - loss: 4.3346e-04\n",
      "Epoch 48/200\n",
      "1172/1172 [==============================] - 0s 176us/step - loss: 4.3221e-04\n",
      "Epoch 49/200\n",
      "1172/1172 [==============================] - 0s 185us/step - loss: 4.3121e-04\n",
      "Epoch 50/200\n",
      "1172/1172 [==============================] - 0s 171us/step - loss: 4.2946e-04\n",
      "Epoch 51/200\n",
      "1172/1172 [==============================] - 0s 180us/step - loss: 4.2961e-04\n",
      "Epoch 52/200\n",
      "1172/1172 [==============================] - 0s 179us/step - loss: 4.2744e-04\n",
      "Epoch 53/200\n",
      "1172/1172 [==============================] - 0s 183us/step - loss: 4.2933e-04\n",
      "Epoch 54/200\n",
      "1172/1172 [==============================] - 0s 178us/step - loss: 4.2373e-04\n",
      "Epoch 55/200\n",
      "1172/1172 [==============================] - 0s 184us/step - loss: 4.2312e-04\n",
      "Epoch 56/200\n",
      "1172/1172 [==============================] - 0s 178us/step - loss: 4.2120e-04\n",
      "Epoch 57/200\n",
      "1172/1172 [==============================] - 0s 182us/step - loss: 4.1902e-04\n",
      "Epoch 58/200\n",
      "1172/1172 [==============================] - 0s 178us/step - loss: 4.1754e-04\n",
      "Epoch 59/200\n",
      "1172/1172 [==============================] - 0s 178us/step - loss: 4.1678e-04\n",
      "Epoch 60/200\n",
      "1172/1172 [==============================] - 0s 186us/step - loss: 4.1633e-04\n",
      "Epoch 61/200\n",
      "1172/1172 [==============================] - 0s 181us/step - loss: 4.1615e-04\n",
      "Epoch 62/200\n",
      "1172/1172 [==============================] - 0s 174us/step - loss: 4.1800e-04\n",
      "Epoch 63/200\n",
      "1172/1172 [==============================] - 0s 183us/step - loss: 4.1685e-04\n",
      "Epoch 64/200\n",
      "1172/1172 [==============================] - 0s 179us/step - loss: 4.1474e-04\n",
      "Epoch 65/200\n",
      "1172/1172 [==============================] - 0s 184us/step - loss: 4.2124e-04\n",
      "Epoch 66/200\n",
      "1172/1172 [==============================] - 0s 182us/step - loss: 4.0646e-04\n",
      "Epoch 67/200\n",
      "1172/1172 [==============================] - 0s 173us/step - loss: 4.0509e-04\n",
      "Epoch 68/200\n",
      "1172/1172 [==============================] - 0s 177us/step - loss: 4.0256e-04\n",
      "Epoch 69/200\n",
      "1172/1172 [==============================] - 0s 173us/step - loss: 4.0122e-04\n",
      "Epoch 70/200\n",
      "1172/1172 [==============================] - 0s 181us/step - loss: 4.0347e-04\n",
      "Epoch 71/200\n",
      "1172/1172 [==============================] - 0s 182us/step - loss: 4.0071e-04\n",
      "Epoch 72/200\n",
      "1172/1172 [==============================] - 0s 177us/step - loss: 3.9765e-04\n",
      "Epoch 73/200\n",
      "1172/1172 [==============================] - 0s 177us/step - loss: 3.9821e-04\n",
      "Epoch 74/200\n",
      "1172/1172 [==============================] - 0s 174us/step - loss: 3.9483e-04\n",
      "Epoch 75/200\n",
      "1172/1172 [==============================] - 0s 182us/step - loss: 3.9565e-04\n",
      "Epoch 76/200\n",
      "1172/1172 [==============================] - 0s 179us/step - loss: 3.9518e-04\n",
      "Epoch 77/200\n",
      "1172/1172 [==============================] - 0s 173us/step - loss: 3.9067e-04\n",
      "Epoch 78/200\n",
      "1172/1172 [==============================] - 0s 178us/step - loss: 3.9618e-04\n",
      "Epoch 79/200\n",
      "1172/1172 [==============================] - 0s 169us/step - loss: 3.8862e-04\n",
      "Epoch 80/200\n",
      "1172/1172 [==============================] - 0s 188us/step - loss: 3.8944e-04\n",
      "Epoch 81/200\n",
      "1172/1172 [==============================] - 0s 181us/step - loss: 3.9346e-04\n",
      "Epoch 82/200\n",
      "1172/1172 [==============================] - 0s 176us/step - loss: 3.8573e-04\n",
      "Epoch 83/200\n",
      "1172/1172 [==============================] - 0s 173us/step - loss: 3.9287e-04\n",
      "Epoch 84/200\n",
      "1172/1172 [==============================] - 0s 174us/step - loss: 3.9002e-04\n",
      "Epoch 85/200\n",
      "1172/1172 [==============================] - 0s 182us/step - loss: 3.8737e-04\n",
      "Epoch 86/200\n",
      "1172/1172 [==============================] - 0s 178us/step - loss: 3.7957e-04\n",
      "Epoch 87/200\n",
      "1172/1172 [==============================] - 0s 180us/step - loss: 3.7955e-04\n",
      "Epoch 88/200\n",
      "1172/1172 [==============================] - 0s 176us/step - loss: 3.8291e-04\n",
      "Epoch 89/200\n",
      "1172/1172 [==============================] - 0s 172us/step - loss: 3.7886e-04\n",
      "Epoch 90/200\n",
      "1172/1172 [==============================] - 0s 174us/step - loss: 3.7881e-04\n",
      "Epoch 91/200\n"
     ]
    },
    {
     "name": "stdout",
     "output_type": "stream",
     "text": [
      "1172/1172 [==============================] - 0s 180us/step - loss: 3.7205e-04\n",
      "Epoch 92/200\n",
      "1172/1172 [==============================] - 0s 175us/step - loss: 3.6892e-04\n",
      "Epoch 93/200\n",
      "1172/1172 [==============================] - 0s 166us/step - loss: 3.7225e-04\n",
      "Epoch 94/200\n",
      "1172/1172 [==============================] - 0s 171us/step - loss: 3.6798e-04\n",
      "Epoch 95/200\n",
      "1172/1172 [==============================] - 0s 181us/step - loss: 3.6694e-04\n",
      "Epoch 96/200\n",
      "1172/1172 [==============================] - 0s 165us/step - loss: 3.6364e-04\n",
      "Epoch 97/200\n",
      "1172/1172 [==============================] - 0s 169us/step - loss: 3.6368e-04\n",
      "Epoch 98/200\n",
      "1172/1172 [==============================] - 0s 173us/step - loss: 3.6029e-04\n",
      "Epoch 99/200\n",
      "1172/1172 [==============================] - 0s 168us/step - loss: 3.6025e-04\n",
      "Epoch 100/200\n",
      "1172/1172 [==============================] - 0s 163us/step - loss: 3.5855e-04\n",
      "Epoch 101/200\n",
      "1172/1172 [==============================] - 0s 165us/step - loss: 3.5715e-04\n",
      "Epoch 102/200\n",
      "1172/1172 [==============================] - 0s 171us/step - loss: 3.6721e-04\n",
      "Epoch 103/200\n",
      "1172/1172 [==============================] - 0s 166us/step - loss: 3.5784e-04\n",
      "Epoch 104/200\n",
      "1172/1172 [==============================] - 0s 178us/step - loss: 3.5369e-04\n",
      "Epoch 105/200\n",
      "1172/1172 [==============================] - 0s 174us/step - loss: 3.5641e-04\n",
      "Epoch 106/200\n",
      "1172/1172 [==============================] - 0s 167us/step - loss: 3.4966e-04\n",
      "Epoch 107/200\n",
      "1172/1172 [==============================] - 0s 176us/step - loss: 3.5274e-04\n",
      "Epoch 108/200\n",
      "1172/1172 [==============================] - 0s 177us/step - loss: 3.4474e-04\n",
      "Epoch 109/200\n",
      "1172/1172 [==============================] - 0s 177us/step - loss: 3.5265e-04\n",
      "Epoch 110/200\n",
      "1172/1172 [==============================] - 0s 177us/step - loss: 3.5660e-04\n",
      "Epoch 111/200\n",
      "1172/1172 [==============================] - 0s 181us/step - loss: 3.4356e-04\n",
      "Epoch 112/200\n",
      "1172/1172 [==============================] - 0s 176us/step - loss: 3.5156e-04\n",
      "Epoch 113/200\n",
      "1172/1172 [==============================] - 0s 177us/step - loss: 3.4374e-04\n",
      "Epoch 114/200\n",
      "1172/1172 [==============================] - 0s 174us/step - loss: 3.3798e-04\n",
      "Epoch 115/200\n",
      "1172/1172 [==============================] - 0s 172us/step - loss: 3.3738e-04\n",
      "Epoch 116/200\n",
      "1172/1172 [==============================] - 0s 179us/step - loss: 3.3592e-04\n",
      "Epoch 117/200\n",
      "1172/1172 [==============================] - 0s 179us/step - loss: 3.3400e-04\n",
      "Epoch 118/200\n",
      "1172/1172 [==============================] - 0s 168us/step - loss: 3.4045e-04\n",
      "Epoch 119/200\n",
      "1172/1172 [==============================] - 0s 177us/step - loss: 3.3064e-04\n",
      "Epoch 120/200\n",
      "1172/1172 [==============================] - 0s 160us/step - loss: 3.3798e-04\n",
      "Epoch 121/200\n",
      "1172/1172 [==============================] - 0s 159us/step - loss: 3.2838e-04\n",
      "Epoch 122/200\n",
      "1172/1172 [==============================] - 0s 161us/step - loss: 3.2903e-04\n",
      "Epoch 123/200\n",
      "1172/1172 [==============================] - 0s 166us/step - loss: 3.2607e-04\n",
      "Epoch 124/200\n",
      "1172/1172 [==============================] - 0s 181us/step - loss: 3.3220e-04\n",
      "Epoch 125/200\n",
      "1172/1172 [==============================] - 0s 152us/step - loss: 3.3186e-04\n",
      "Epoch 126/200\n",
      "1172/1172 [==============================] - 0s 163us/step - loss: 3.2159e-04\n",
      "Epoch 127/200\n",
      "1172/1172 [==============================] - 0s 161us/step - loss: 3.2212e-04\n",
      "Epoch 128/200\n",
      "1172/1172 [==============================] - 0s 177us/step - loss: 3.1946e-04\n",
      "Epoch 129/200\n",
      "1172/1172 [==============================] - 0s 169us/step - loss: 3.1692e-04\n",
      "Epoch 130/200\n",
      "1172/1172 [==============================] - 0s 177us/step - loss: 3.1737e-04\n",
      "Epoch 131/200\n",
      "1172/1172 [==============================] - 0s 166us/step - loss: 3.1635e-04\n",
      "Epoch 132/200\n",
      "1172/1172 [==============================] - 0s 182us/step - loss: 3.1650e-04\n",
      "Epoch 133/200\n",
      "1172/1172 [==============================] - 0s 179us/step - loss: 3.1879e-04\n",
      "Epoch 134/200\n",
      "1172/1172 [==============================] - 0s 176us/step - loss: 3.0870e-04\n",
      "Epoch 135/200\n",
      "1172/1172 [==============================] - 0s 172us/step - loss: 3.1383e-04\n",
      "Epoch 136/200\n",
      "1172/1172 [==============================] - 0s 175us/step - loss: 3.0939e-04\n",
      "Epoch 137/200\n",
      "1172/1172 [==============================] - 0s 169us/step - loss: 3.1033e-04\n",
      "Epoch 138/200\n",
      "1172/1172 [==============================] - 0s 182us/step - loss: 3.1051e-04\n",
      "Epoch 139/200\n",
      "1172/1172 [==============================] - 0s 182us/step - loss: 3.0561e-04\n",
      "Epoch 140/200\n",
      "1172/1172 [==============================] - 0s 180us/step - loss: 3.0308e-04\n",
      "Epoch 141/200\n",
      "1172/1172 [==============================] - 0s 173us/step - loss: 3.1334e-04\n",
      "Epoch 142/200\n",
      "1172/1172 [==============================] - 0s 184us/step - loss: 3.1587e-04\n",
      "Epoch 143/200\n",
      "1172/1172 [==============================] - 0s 172us/step - loss: 3.0072e-04\n",
      "Epoch 144/200\n",
      "1172/1172 [==============================] - 0s 191us/step - loss: 2.9999e-04\n",
      "Epoch 145/200\n",
      "1172/1172 [==============================] - 0s 178us/step - loss: 2.9907e-04\n",
      "Epoch 146/200\n",
      "1172/1172 [==============================] - 0s 171us/step - loss: 2.9621e-04\n",
      "Epoch 147/200\n",
      "1172/1172 [==============================] - 0s 179us/step - loss: 3.0406e-04\n",
      "Epoch 148/200\n",
      "1172/1172 [==============================] - 0s 183us/step - loss: 3.0428e-04\n",
      "Epoch 149/200\n",
      "1172/1172 [==============================] - 0s 187us/step - loss: 2.9549e-04\n",
      "Epoch 150/200\n",
      "1172/1172 [==============================] - 0s 184us/step - loss: 2.9788e-04\n",
      "Epoch 151/200\n",
      "1172/1172 [==============================] - 0s 174us/step - loss: 2.9191e-04\n",
      "Epoch 152/200\n",
      "1172/1172 [==============================] - 0s 171us/step - loss: 2.8887e-04\n",
      "Epoch 153/200\n",
      "1172/1172 [==============================] - 0s 177us/step - loss: 2.9091e-04\n",
      "Epoch 154/200\n",
      "1172/1172 [==============================] - 0s 179us/step - loss: 2.9171e-04\n",
      "Epoch 155/200\n",
      "1172/1172 [==============================] - 0s 172us/step - loss: 2.8813e-04\n",
      "Epoch 156/200\n",
      "1172/1172 [==============================] - 0s 171us/step - loss: 2.8287e-04\n",
      "Epoch 157/200\n",
      "1172/1172 [==============================] - 0s 181us/step - loss: 2.8250e-04\n",
      "Epoch 158/200\n",
      "1172/1172 [==============================] - 0s 184us/step - loss: 2.8701e-04\n",
      "Epoch 159/200\n",
      "1172/1172 [==============================] - 0s 178us/step - loss: 2.8131e-04\n",
      "Epoch 160/200\n",
      "1172/1172 [==============================] - 0s 178us/step - loss: 2.7799e-04\n",
      "Epoch 161/200\n",
      "1172/1172 [==============================] - 0s 179us/step - loss: 2.8075e-04\n",
      "Epoch 162/200\n",
      "1172/1172 [==============================] - 0s 175us/step - loss: 2.8214e-04\n",
      "Epoch 163/200\n",
      "1172/1172 [==============================] - 0s 185us/step - loss: 2.8227e-04\n",
      "Epoch 164/200\n",
      "1172/1172 [==============================] - 0s 173us/step - loss: 2.7727e-04\n",
      "Epoch 165/200\n",
      "1172/1172 [==============================] - 0s 181us/step - loss: 2.7400e-04\n",
      "Epoch 166/200\n",
      "1172/1172 [==============================] - 0s 166us/step - loss: 2.7102e-04\n",
      "Epoch 167/200\n",
      "1172/1172 [==============================] - 0s 167us/step - loss: 2.7861e-04\n",
      "Epoch 168/200\n",
      "1172/1172 [==============================] - 0s 172us/step - loss: 2.7364e-04\n",
      "Epoch 169/200\n",
      "1172/1172 [==============================] - 0s 174us/step - loss: 2.7192e-04\n",
      "Epoch 170/200\n",
      "1172/1172 [==============================] - 0s 177us/step - loss: 2.6779e-04\n",
      "Epoch 171/200\n",
      "1172/1172 [==============================] - 0s 179us/step - loss: 2.6534e-04\n",
      "Epoch 172/200\n",
      "1172/1172 [==============================] - 0s 176us/step - loss: 2.6487e-04\n",
      "Epoch 173/200\n",
      "1172/1172 [==============================] - 0s 183us/step - loss: 2.6951e-04\n",
      "Epoch 174/200\n",
      "1172/1172 [==============================] - 0s 173us/step - loss: 2.6649e-04\n",
      "Epoch 175/200\n",
      "1172/1172 [==============================] - 0s 178us/step - loss: 2.7054e-04\n",
      "Epoch 176/200\n",
      "1172/1172 [==============================] - 0s 175us/step - loss: 2.6548e-04\n",
      "Epoch 177/200\n",
      "1172/1172 [==============================] - 0s 166us/step - loss: 2.6456e-04\n",
      "Epoch 178/200\n",
      "1172/1172 [==============================] - 0s 181us/step - loss: 2.6008e-04\n",
      "Epoch 179/200\n",
      "1172/1172 [==============================] - 0s 174us/step - loss: 2.5721e-04\n",
      "Epoch 180/200\n"
     ]
    },
    {
     "name": "stdout",
     "output_type": "stream",
     "text": [
      "1172/1172 [==============================] - 0s 167us/step - loss: 2.6335e-04\n",
      "Epoch 181/200\n",
      "1172/1172 [==============================] - 0s 177us/step - loss: 2.5656e-04\n",
      "Epoch 182/200\n",
      "1172/1172 [==============================] - 0s 160us/step - loss: 2.7394e-04\n",
      "Epoch 183/200\n",
      "1172/1172 [==============================] - 0s 170us/step - loss: 2.6044e-04\n",
      "Epoch 184/200\n",
      "1172/1172 [==============================] - 0s 177us/step - loss: 2.5170e-04\n",
      "Epoch 185/200\n",
      "1172/1172 [==============================] - 0s 161us/step - loss: 2.6089e-04\n",
      "Epoch 186/200\n",
      "1172/1172 [==============================] - 0s 176us/step - loss: 2.5183e-04\n",
      "Epoch 187/200\n",
      "1172/1172 [==============================] - 0s 161us/step - loss: 2.4812e-04\n",
      "Epoch 188/200\n",
      "1172/1172 [==============================] - 0s 226us/step - loss: 2.5470e-04\n",
      "Epoch 189/200\n",
      "1172/1172 [==============================] - 0s 207us/step - loss: 2.5183e-04\n",
      "Epoch 190/200\n",
      "1172/1172 [==============================] - 0s 209us/step - loss: 2.5328e-04\n",
      "Epoch 191/200\n",
      "1172/1172 [==============================] - 0s 200us/step - loss: 2.4912e-04\n",
      "Epoch 192/200\n",
      "1172/1172 [==============================] - 0s 203us/step - loss: 2.5364e-04\n",
      "Epoch 193/200\n",
      "1172/1172 [==============================] - 0s 223us/step - loss: 2.4477e-04\n",
      "Epoch 194/200\n",
      "1172/1172 [==============================] - 0s 211us/step - loss: 2.4470e-04\n",
      "Epoch 195/200\n",
      "1172/1172 [==============================] - 0s 204us/step - loss: 2.4306e-04\n",
      "Epoch 196/200\n",
      "1172/1172 [==============================] - 0s 203us/step - loss: 2.4115e-04\n",
      "Epoch 197/200\n",
      "1172/1172 [==============================] - 0s 220us/step - loss: 2.4454e-04\n",
      "Epoch 198/200\n",
      "1172/1172 [==============================] - 0s 205us/step - loss: 2.4516e-04\n",
      "Epoch 199/200\n",
      "1172/1172 [==============================] - 0s 211us/step - loss: 2.4109e-04\n",
      "Epoch 200/200\n",
      "1172/1172 [==============================] - 0s 202us/step - loss: 2.4738e-04\n"
     ]
    },
    {
     "data": {
      "text/plain": [
       "<keras.callbacks.History at 0x1f2431caf28>"
      ]
     },
     "execution_count": 14,
     "metadata": {},
     "output_type": "execute_result"
    }
   ],
   "source": [
    "# create and fit the LSTM network\n",
    "model = Sequential()\n",
    "model.add(LSTM(4, input_shape=(look_back, 1)))\n",
    "model.add(Dense(1))\n",
    "model.compile(loss='mse', optimizer='adam')\n",
    "model.fit(trainX, trainY, nb_epoch=200, batch_size=batch_size)"
   ]
  },
  {
   "cell_type": "code",
   "execution_count": 26,
   "metadata": {},
   "outputs": [
    {
     "data": {
      "text/plain": [
       "array([[31.034735],\n",
       "       [31.004564],\n",
       "       [30.942156],\n",
       "       ...,\n",
       "       [99.33876 ],\n",
       "       [99.15708 ],\n",
       "       [98.67181 ]], dtype=float32)"
      ]
     },
     "execution_count": 26,
     "metadata": {},
     "output_type": "execute_result"
    }
   ],
   "source": [
    "trainPredict"
   ]
  },
  {
   "cell_type": "code",
   "execution_count": 15,
   "metadata": {},
   "outputs": [],
   "source": [
    "# make predictions\n",
    "trainPredict = model.predict(trainX)\n",
    "testPredict = model.predict(testX)"
   ]
  },
  {
   "cell_type": "code",
   "execution_count": 16,
   "metadata": {},
   "outputs": [],
   "source": [
    "# invert predictions and targets to unscaled\n",
    "trainPredict = scaler.inverse_transform(trainPredict)\n",
    "trainY = scaler.inverse_transform([trainY])\n",
    "testPredict = scaler.inverse_transform(testPredict)\n",
    "testY = scaler.inverse_transform([testY])"
   ]
  },
  {
   "cell_type": "code",
   "execution_count": 17,
   "metadata": {},
   "outputs": [
    {
     "name": "stdout",
     "output_type": "stream",
     "text": [
      "Train Score: 1.62 RMSE\n",
      "Test Score: 4.29 RMSE\n"
     ]
    }
   ],
   "source": [
    "# calculate root mean squared error\n",
    "trainScore = math.sqrt(mean_squared_error(trainY[0], trainPredict[:,0]))\n",
    "print('Train Score: %.2f RMSE' % (trainScore))\n",
    "testScore = math.sqrt(mean_squared_error(testY[0], testPredict[:,0]))\n",
    "print('Test Score: %.2f RMSE' % (testScore))"
   ]
  },
  {
   "cell_type": "code",
   "execution_count": 18,
   "metadata": {},
   "outputs": [],
   "source": [
    "# shift predictions of training data for plotting\n",
    "trainPredictPlot = np.empty_like(apple_stock_prices)\n",
    "trainPredictPlot[:, :] = np.nan\n",
    "trainPredictPlot[look_back:len(trainPredict)+look_back, :] = trainPredict"
   ]
  },
  {
   "cell_type": "code",
   "execution_count": 19,
   "metadata": {},
   "outputs": [],
   "source": [
    "# shift predictions of test data for plotting\n",
    "testPredictPlot = np.empty_like(apple_stock_prices)\n",
    "testPredictPlot[:, :] = np.nan\n",
    "testPredictPlot[len(trainPredict)+(look_back*2)+1:len(apple_stock_prices)-1, :] = testPredict"
   ]
  },
  {
   "cell_type": "code",
   "execution_count": 20,
   "metadata": {},
   "outputs": [
    {
     "data": {
      "image/png": "[encoded data removed]",
      "text/plain": [
       "<matplotlib.figure.Figure at 0x1f243294b70>"
      ]
     },
     "metadata": {},
     "output_type": "display_data"
    }
   ],
   "source": [
    "# plot baseline and predictions\n",
    "plt.plot(scaler.inverse_transform(apple_stock_prices))\n",
    "plt.plot(trainPredictPlot)\n",
    "plt.plot(testPredictPlot)\n",
    "plt.show()"
   ]
  },
  {
   "cell_type": "code",
   "execution_count": null,
   "metadata": {},
   "outputs": [],
   "source": []
  }
 ],
 "metadata": {
  "kernelspec": {
   "display_name": "Python 3",
   "language": "python",
   "name": "python3"
  },
  "language_info": {
   "codemirror_mode": {
    "name": "ipython",
    "version": 3
   },
   "file_extension": ".py",
   "mimetype": "text/x-python",
   "name": "python",
   "nbconvert_exporter": "python",
   "pygments_lexer": "ipython3",
   "version": "3.5.4"
  }
 },
 "nbformat": 4,
 "nbformat_minor": 2
}
