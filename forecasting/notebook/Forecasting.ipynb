{
 "cells": [
  {
   "cell_type": "code",
   "execution_count": 78,
   "metadata": {},
   "outputs": [],
   "source": [
    "from __future__ import print_function\n",
    "import numpy as np # linear algebra\n",
    "import pandas as pd # data processing, CSV file I/O (e.g. pd.read_csv)\n",
    "from keras.layers.core import Dense, Activation, Dropout\n",
    "from keras.layers.recurrent import LSTM\n",
    "from keras.models import Sequential\n",
    "from sklearn.cross_validation import  train_test_split\n",
    "from sklearn.preprocessing import MinMaxScaler\n",
    "from sklearn.metrics import mean_squared_error\n",
    "import matplotlib.pyplot as plt\n",
    "import math\n",
    "\n",
    "# to not display the warnings of tensorflow\n",
    "import os\n",
    "os.environ['TF_CPP_MIN_LOG_LEVEL']='2'"
   ]
  },
  {
   "cell_type": "code",
   "execution_count": 79,
   "metadata": {},
   "outputs": [],
   "source": [
    "# parameters to be set (\"optimum\" hyperparameters obtained from grid search):\n",
    "look_back = 4\n",
    "epochs = 2000\n",
    "batch_size = 32"
   ]
  },
  {
   "cell_type": "code",
   "execution_count": 80,
   "metadata": {},
   "outputs": [],
   "source": [
    "# fix random seed for reproducibility\n",
    "np.random.seed(7)"
   ]
  },
  {
   "cell_type": "code",
   "execution_count": 81,
   "metadata": {},
   "outputs": [],
   "source": [
    "dataset = [40, 50, 80, 100, 84, 98, 130, 125,\n",
    "                    140, 180, 202, 219, 231, 207, 230,\n",
    "                    250, 277, 291, 302, 315, 300,\n",
    "                    312, 348, 367, 380, 350, 261, 289,\n",
    "                    320, 390, 430, 467, 419, 422, 489,\n",
    "                    512, 560, 620, 650, 710, 730, 722, 780,\n",
    "                    820, 892, 878, 902, 950, 961, 988, 946]\n",
    "for i in range(len(dataset)):\n",
    "    dataset[i] = [dataset[i]]"
   ]
  },
  {
   "cell_type": "code",
   "execution_count": 83,
   "metadata": {},
   "outputs": [],
   "source": [
    "scaler = MinMaxScaler(feature_range=(0, 1))"
   ]
  },
  {
   "cell_type": "code",
   "execution_count": 84,
   "metadata": {},
   "outputs": [],
   "source": [
    "dataset = scaler.fit_transform(dataset)"
   ]
  },
  {
   "cell_type": "code",
   "execution_count": 85,
   "metadata": {},
   "outputs": [],
   "source": [
    "train = np.array(dataset)"
   ]
  },
  {
   "cell_type": "code",
   "execution_count": 86,
   "metadata": {},
   "outputs": [],
   "source": [
    "def create_dataset(dataset, look_back):\n",
    "    dataX, dataY = [], []\n",
    "    for i in range(len(dataset)-look_back-1):\n",
    "        a = dataset[i:(i+look_back), 0]\n",
    "        dataX.append(a)\n",
    "        dataY.append(dataset[i + look_back, 0])\n",
    "    return np.array(dataX), np.array(dataY)"
   ]
  },
  {
   "cell_type": "code",
   "execution_count": 87,
   "metadata": {},
   "outputs": [],
   "source": [
    "trainX, trainY = create_dataset(train, look_back)"
   ]
  },
  {
   "cell_type": "code",
   "execution_count": 88,
   "metadata": {},
   "outputs": [
    {
     "data": {
      "text/plain": [
       "array([0.0464135 , 0.06118143, 0.09493671, 0.08966245, 0.10548523,\n",
       "       0.14767932, 0.17088608, 0.18881857, 0.20147679, 0.17616034,\n",
       "       0.20042194, 0.22151899, 0.25      , 0.26476793, 0.27637131,\n",
       "       0.29008439, 0.2742616 , 0.28691983, 0.32489451, 0.34493671,\n",
       "       0.35864979, 0.32700422, 0.23312236, 0.26265823, 0.29535865,\n",
       "       0.36919831, 0.41139241, 0.45042194, 0.39978903, 0.40295359,\n",
       "       0.47362869, 0.4978903 , 0.54852321, 0.61181435, 0.64345992,\n",
       "       0.70675105, 0.7278481 , 0.71940928, 0.78059072, 0.82278481,\n",
       "       0.89873418, 0.88396624, 0.9092827 , 0.95991561, 0.97151899,\n",
       "       1.        ])"
      ]
     },
     "execution_count": 88,
     "metadata": {},
     "output_type": "execute_result"
    }
   ],
   "source": [
    "trainY"
   ]
  },
  {
   "cell_type": "code",
   "execution_count": 89,
   "metadata": {},
   "outputs": [],
   "source": [
    "# reshape input of the LSTM to be format [samples, time steps, features]\n",
    "trainX = np.reshape(trainX, (trainX.shape[0], trainX.shape[1], 1))"
   ]
  },
  {
   "cell_type": "code",
   "execution_count": 90,
   "metadata": {},
   "outputs": [
    {
     "name": "stderr",
     "output_type": "stream",
     "text": [
      "c:\\users\\costi\\appdata\\local\\programs\\python\\python35\\lib\\site-packages\\keras\\models.py:942: UserWarning: The `nb_epoch` argument in `fit` has been renamed `epochs`.\n",
      "  warnings.warn('The `nb_epoch` argument in `fit` '\n"
     ]
    },
    {
     "name": "stdout",
     "output_type": "stream",
     "text": [
      "Epoch 1/200\n",
      "46/46 [==============================] - 1s 25ms/step - loss: 0.2385\n",
      "Epoch 2/200\n",
      "46/46 [==============================] - 0s 304us/step - loss: 0.2281\n",
      "Epoch 3/200\n",
      "46/46 [==============================] - 0s 282us/step - loss: 0.2182\n",
      "Epoch 4/200\n",
      "46/46 [==============================] - 0s 282us/step - loss: 0.2094\n",
      "Epoch 5/200\n",
      "46/46 [==============================] - 0s 304us/step - loss: 0.1997\n",
      "Epoch 6/200\n",
      "46/46 [==============================] - 0s 326us/step - loss: 0.1915\n",
      "Epoch 7/200\n",
      "46/46 [==============================] - 0s 282us/step - loss: 0.1829\n",
      "Epoch 8/200\n",
      "46/46 [==============================] - 0s 282us/step - loss: 0.1750\n",
      "Epoch 9/200\n",
      "46/46 [==============================] - 0s 239us/step - loss: 0.1673\n",
      "Epoch 10/200\n",
      "46/46 [==============================] - 0s 304us/step - loss: 0.1591\n",
      "Epoch 11/200\n",
      "46/46 [==============================] - 0s 282us/step - loss: 0.1520\n",
      "Epoch 12/200\n",
      "46/46 [==============================] - 0s 304us/step - loss: 0.1454\n",
      "Epoch 13/200\n",
      "46/46 [==============================] - 0s 304us/step - loss: 0.1386\n",
      "Epoch 14/200\n",
      "46/46 [==============================] - 0s 217us/step - loss: 0.1317\n",
      "Epoch 15/200\n",
      "46/46 [==============================] - 0s 348us/step - loss: 0.1254\n",
      "Epoch 16/200\n",
      "46/46 [==============================] - 0s 348us/step - loss: 0.1196\n",
      "Epoch 17/200\n",
      "46/46 [==============================] - 0s 304us/step - loss: 0.1133\n",
      "Epoch 18/200\n",
      "46/46 [==============================] - 0s 261us/step - loss: 0.1078\n",
      "Epoch 19/200\n",
      "46/46 [==============================] - 0s 304us/step - loss: 0.1023\n",
      "Epoch 20/200\n",
      "46/46 [==============================] - 0s 391us/step - loss: 0.0968\n",
      "Epoch 21/200\n",
      "46/46 [==============================] - 0s 369us/step - loss: 0.0919\n",
      "Epoch 22/200\n",
      "46/46 [==============================] - 0s 304us/step - loss: 0.0871\n",
      "Epoch 23/200\n",
      "46/46 [==============================] - 0s 239us/step - loss: 0.0821\n",
      "Epoch 24/200\n",
      "46/46 [==============================] - 0s 348us/step - loss: 0.0775\n",
      "Epoch 25/200\n",
      "46/46 [==============================] - 0s 326us/step - loss: 0.0733\n",
      "Epoch 26/200\n",
      "46/46 [==============================] - 0s 261us/step - loss: 0.0695\n",
      "Epoch 27/200\n",
      "46/46 [==============================] - ETA: 0s - loss: 0.081 - 0s 369us/step - loss: 0.0657\n",
      "Epoch 28/200\n",
      "46/46 [==============================] - 0s 304us/step - loss: 0.0618\n",
      "Epoch 29/200\n",
      "46/46 [==============================] - 0s 239us/step - loss: 0.0585\n",
      "Epoch 30/200\n",
      "46/46 [==============================] - 0s 326us/step - loss: 0.0552\n",
      "Epoch 31/200\n",
      "46/46 [==============================] - 0s 239us/step - loss: 0.0521\n",
      "Epoch 32/200\n",
      "46/46 [==============================] - 0s 369us/step - loss: 0.0495\n",
      "Epoch 33/200\n",
      "46/46 [==============================] - 0s 326us/step - loss: 0.0467\n",
      "Epoch 34/200\n",
      "46/46 [==============================] - 0s 369us/step - loss: 0.0444\n",
      "Epoch 35/200\n",
      "46/46 [==============================] - 0s 326us/step - loss: 0.0423\n",
      "Epoch 36/200\n",
      "46/46 [==============================] - 0s 261us/step - loss: 0.0402\n",
      "Epoch 37/200\n",
      "46/46 [==============================] - 0s 304us/step - loss: 0.0381\n",
      "Epoch 38/200\n",
      "46/46 [==============================] - 0s 369us/step - loss: 0.0368\n",
      "Epoch 39/200\n",
      "46/46 [==============================] - 0s 326us/step - loss: 0.0353\n",
      "Epoch 40/200\n",
      "46/46 [==============================] - 0s 239us/step - loss: 0.0341\n",
      "Epoch 41/200\n",
      "46/46 [==============================] - 0s 348us/step - loss: 0.0328\n",
      "Epoch 42/200\n",
      "46/46 [==============================] - 0s 348us/step - loss: 0.0319\n",
      "Epoch 43/200\n",
      "46/46 [==============================] - 0s 261us/step - loss: 0.0311\n",
      "Epoch 44/200\n",
      "46/46 [==============================] - 0s 304us/step - loss: 0.0305\n",
      "Epoch 45/200\n",
      "46/46 [==============================] - 0s 282us/step - loss: 0.0296\n",
      "Epoch 46/200\n",
      "46/46 [==============================] - 0s 239us/step - loss: 0.0292\n",
      "Epoch 47/200\n",
      "46/46 [==============================] - 0s 326us/step - loss: 0.0288\n",
      "Epoch 48/200\n",
      "46/46 [==============================] - 0s 261us/step - loss: 0.0283\n",
      "Epoch 49/200\n",
      "46/46 [==============================] - 0s 348us/step - loss: 0.0278\n",
      "Epoch 50/200\n",
      "46/46 [==============================] - 0s 326us/step - loss: 0.0274\n",
      "Epoch 51/200\n",
      "46/46 [==============================] - 0s 326us/step - loss: 0.0270\n",
      "Epoch 52/200\n",
      "46/46 [==============================] - 0s 326us/step - loss: 0.0265\n",
      "Epoch 53/200\n",
      "46/46 [==============================] - 0s 282us/step - loss: 0.0262\n",
      "Epoch 54/200\n",
      "46/46 [==============================] - 0s 261us/step - loss: 0.0258\n",
      "Epoch 55/200\n",
      "46/46 [==============================] - 0s 239us/step - loss: 0.0254\n",
      "Epoch 56/200\n",
      "46/46 [==============================] - 0s 217us/step - loss: 0.0250\n",
      "Epoch 57/200\n",
      "46/46 [==============================] - 0s 261us/step - loss: 0.0246\n",
      "Epoch 58/200\n",
      "46/46 [==============================] - 0s 326us/step - loss: 0.0242\n",
      "Epoch 59/200\n",
      "46/46 [==============================] - ETA: 0s - loss: 0.023 - 0s 282us/step - loss: 0.0238\n",
      "Epoch 60/200\n",
      "46/46 [==============================] - 0s 326us/step - loss: 0.0234\n",
      "Epoch 61/200\n",
      "46/46 [==============================] - 0s 261us/step - loss: 0.0231\n",
      "Epoch 62/200\n",
      "46/46 [==============================] - 0s 217us/step - loss: 0.0227\n",
      "Epoch 63/200\n",
      "46/46 [==============================] - 0s 239us/step - loss: 0.0223\n",
      "Epoch 64/200\n",
      "46/46 [==============================] - 0s 261us/step - loss: 0.0219\n",
      "Epoch 65/200\n",
      "46/46 [==============================] - 0s 261us/step - loss: 0.0215\n",
      "Epoch 66/200\n",
      "46/46 [==============================] - 0s 217us/step - loss: 0.0212\n",
      "Epoch 67/200\n",
      "46/46 [==============================] - 0s 217us/step - loss: 0.0208\n",
      "Epoch 68/200\n",
      "46/46 [==============================] - 0s 326us/step - loss: 0.0204\n",
      "Epoch 69/200\n",
      "46/46 [==============================] - 0s 239us/step - loss: 0.0201\n",
      "Epoch 70/200\n",
      "46/46 [==============================] - 0s 282us/step - loss: 0.0197\n",
      "Epoch 71/200\n",
      "46/46 [==============================] - 0s 282us/step - loss: 0.0194\n",
      "Epoch 72/200\n",
      "46/46 [==============================] - ETA: 0s - loss: 0.019 - 0s 261us/step - loss: 0.0190\n",
      "Epoch 73/200\n",
      "46/46 [==============================] - 0s 304us/step - loss: 0.0186\n",
      "Epoch 74/200\n",
      "46/46 [==============================] - 0s 282us/step - loss: 0.0183\n",
      "Epoch 75/200\n",
      "46/46 [==============================] - 0s 326us/step - loss: 0.0179\n",
      "Epoch 76/200\n",
      "46/46 [==============================] - 0s 304us/step - loss: 0.0176\n",
      "Epoch 77/200\n",
      "46/46 [==============================] - 0s 282us/step - loss: 0.0172\n",
      "Epoch 78/200\n",
      "46/46 [==============================] - 0s 217us/step - loss: 0.0169\n",
      "Epoch 79/200\n",
      "46/46 [==============================] - 0s 239us/step - loss: 0.0165\n",
      "Epoch 80/200\n",
      "46/46 [==============================] - 0s 239us/step - loss: 0.0162\n",
      "Epoch 81/200\n",
      "46/46 [==============================] - 0s 304us/step - loss: 0.0158\n",
      "Epoch 82/200\n",
      "46/46 [==============================] - 0s 282us/step - loss: 0.0155\n",
      "Epoch 83/200\n",
      "46/46 [==============================] - 0s 304us/step - loss: 0.0152\n",
      "Epoch 84/200\n",
      "46/46 [==============================] - 0s 261us/step - loss: 0.0149\n",
      "Epoch 85/200\n",
      "46/46 [==============================] - 0s 239us/step - loss: 0.0145\n",
      "Epoch 86/200\n",
      "46/46 [==============================] - 0s 217us/step - loss: 0.0142\n",
      "Epoch 87/200\n",
      "46/46 [==============================] - 0s 304us/step - loss: 0.0139\n",
      "Epoch 88/200\n",
      "46/46 [==============================] - 0s 261us/step - loss: 0.0136\n",
      "Epoch 89/200\n",
      "46/46 [==============================] - 0s 217us/step - loss: 0.0133\n",
      "Epoch 90/200\n",
      "46/46 [==============================] - 0s 239us/step - loss: 0.0130\n",
      "Epoch 91/200\n",
      "46/46 [==============================] - 0s 304us/step - loss: 0.0127\n",
      "Epoch 92/200\n",
      "46/46 [==============================] - 0s 261us/step - loss: 0.0124\n",
      "Epoch 93/200\n",
      "46/46 [==============================] - 0s 239us/step - loss: 0.0121\n",
      "Epoch 94/200\n",
      "46/46 [==============================] - 0s 282us/step - loss: 0.0118\n",
      "Epoch 95/200\n",
      "46/46 [==============================] - 0s 239us/step - loss: 0.0115\n",
      "Epoch 96/200\n",
      "46/46 [==============================] - 0s 239us/step - loss: 0.0112\n",
      "Epoch 97/200\n",
      "46/46 [==============================] - 0s 217us/step - loss: 0.0109\n",
      "Epoch 98/200\n",
      "46/46 [==============================] - 0s 239us/step - loss: 0.0106\n"
     ]
    },
    {
     "name": "stdout",
     "output_type": "stream",
     "text": [
      "Epoch 99/200\n",
      "46/46 [==============================] - 0s 326us/step - loss: 0.0103\n",
      "Epoch 100/200\n",
      "46/46 [==============================] - 0s 217us/step - loss: 0.0101\n",
      "Epoch 101/200\n",
      "46/46 [==============================] - 0s 217us/step - loss: 0.0098\n",
      "Epoch 102/200\n",
      "46/46 [==============================] - 0s 217us/step - loss: 0.0096\n",
      "Epoch 103/200\n",
      "46/46 [==============================] - 0s 217us/step - loss: 0.0093\n",
      "Epoch 104/200\n",
      "46/46 [==============================] - 0s 261us/step - loss: 0.0090\n",
      "Epoch 105/200\n",
      "46/46 [==============================] - 0s 261us/step - loss: 0.0088\n",
      "Epoch 106/200\n",
      "46/46 [==============================] - 0s 217us/step - loss: 0.0085\n",
      "Epoch 107/200\n",
      "46/46 [==============================] - 0s 239us/step - loss: 0.0083\n",
      "Epoch 108/200\n",
      "46/46 [==============================] - 0s 348us/step - loss: 0.0081\n",
      "Epoch 109/200\n",
      "46/46 [==============================] - 0s 239us/step - loss: 0.0079\n",
      "Epoch 110/200\n",
      "46/46 [==============================] - 0s 348us/step - loss: 0.0076\n",
      "Epoch 111/200\n",
      "46/46 [==============================] - 0s 282us/step - loss: 0.0074\n",
      "Epoch 112/200\n",
      "46/46 [==============================] - 0s 304us/step - loss: 0.0072\n",
      "Epoch 113/200\n",
      "46/46 [==============================] - 0s 261us/step - loss: 0.0070\n",
      "Epoch 114/200\n",
      "46/46 [==============================] - 0s 282us/step - loss: 0.0068\n",
      "Epoch 115/200\n",
      "46/46 [==============================] - 0s 282us/step - loss: 0.0066\n",
      "Epoch 116/200\n",
      "46/46 [==============================] - 0s 348us/step - loss: 0.0064\n",
      "Epoch 117/200\n",
      "46/46 [==============================] - 0s 282us/step - loss: 0.0062\n",
      "Epoch 118/200\n",
      "46/46 [==============================] - 0s 282us/step - loss: 0.0060\n",
      "Epoch 119/200\n",
      "46/46 [==============================] - 0s 304us/step - loss: 0.0058\n",
      "Epoch 120/200\n",
      "46/46 [==============================] - 0s 326us/step - loss: 0.0057\n",
      "Epoch 121/200\n",
      "46/46 [==============================] - 0s 348us/step - loss: 0.0055\n",
      "Epoch 122/200\n",
      "46/46 [==============================] - 0s 326us/step - loss: 0.0054\n",
      "Epoch 123/200\n",
      "46/46 [==============================] - 0s 369us/step - loss: 0.0052\n",
      "Epoch 124/200\n",
      "46/46 [==============================] - 0s 304us/step - loss: 0.0051\n",
      "Epoch 125/200\n",
      "46/46 [==============================] - 0s 348us/step - loss: 0.0049\n",
      "Epoch 126/200\n",
      "46/46 [==============================] - 0s 261us/step - loss: 0.0048\n",
      "Epoch 127/200\n",
      "46/46 [==============================] - 0s 217us/step - loss: 0.0047\n",
      "Epoch 128/200\n",
      "46/46 [==============================] - 0s 304us/step - loss: 0.0045\n",
      "Epoch 129/200\n",
      "46/46 [==============================] - 0s 304us/step - loss: 0.0044\n",
      "Epoch 130/200\n",
      "46/46 [==============================] - 0s 261us/step - loss: 0.0043\n",
      "Epoch 131/200\n",
      "46/46 [==============================] - 0s 304us/step - loss: 0.0042\n",
      "Epoch 132/200\n",
      "46/46 [==============================] - 0s 217us/step - loss: 0.0041\n",
      "Epoch 133/200\n",
      "46/46 [==============================] - 0s 239us/step - loss: 0.0040\n",
      "Epoch 134/200\n",
      "46/46 [==============================] - 0s 348us/step - loss: 0.0039\n",
      "Epoch 135/200\n",
      "46/46 [==============================] - 0s 261us/step - loss: 0.0038\n",
      "Epoch 136/200\n",
      "46/46 [==============================] - 0s 326us/step - loss: 0.0037\n",
      "Epoch 137/200\n",
      "46/46 [==============================] - 0s 282us/step - loss: 0.0036\n",
      "Epoch 138/200\n",
      "46/46 [==============================] - 0s 261us/step - loss: 0.0035\n",
      "Epoch 139/200\n",
      "46/46 [==============================] - 0s 304us/step - loss: 0.0034\n",
      "Epoch 140/200\n",
      "46/46 [==============================] - 0s 304us/step - loss: 0.0033\n",
      "Epoch 141/200\n",
      "46/46 [==============================] - 0s 217us/step - loss: 0.0033\n",
      "Epoch 142/200\n",
      "46/46 [==============================] - 0s 261us/step - loss: 0.0032\n",
      "Epoch 143/200\n",
      "46/46 [==============================] - 0s 282us/step - loss: 0.0031\n",
      "Epoch 144/200\n",
      "46/46 [==============================] - 0s 326us/step - loss: 0.0031\n",
      "Epoch 145/200\n",
      "46/46 [==============================] - 0s 261us/step - loss: 0.0030\n",
      "Epoch 146/200\n",
      "46/46 [==============================] - 0s 304us/step - loss: 0.0030\n",
      "Epoch 147/200\n",
      "46/46 [==============================] - 0s 326us/step - loss: 0.0029\n",
      "Epoch 148/200\n",
      "46/46 [==============================] - 0s 369us/step - loss: 0.0029\n",
      "Epoch 149/200\n",
      "46/46 [==============================] - 0s 239us/step - loss: 0.0028\n",
      "Epoch 150/200\n",
      "46/46 [==============================] - 0s 348us/step - loss: 0.0028\n",
      "Epoch 151/200\n",
      "46/46 [==============================] - 0s 282us/step - loss: 0.0027\n",
      "Epoch 152/200\n",
      "46/46 [==============================] - 0s 261us/step - loss: 0.0027\n",
      "Epoch 153/200\n",
      "46/46 [==============================] - 0s 239us/step - loss: 0.0026\n",
      "Epoch 154/200\n",
      "46/46 [==============================] - 0s 369us/step - loss: 0.0026\n",
      "Epoch 155/200\n",
      "46/46 [==============================] - 0s 217us/step - loss: 0.0026\n",
      "Epoch 156/200\n",
      "46/46 [==============================] - 0s 282us/step - loss: 0.0025\n",
      "Epoch 157/200\n",
      "46/46 [==============================] - 0s 348us/step - loss: 0.0025\n",
      "Epoch 158/200\n",
      "46/46 [==============================] - 0s 217us/step - loss: 0.0025\n",
      "Epoch 159/200\n",
      "46/46 [==============================] - 0s 239us/step - loss: 0.0025\n",
      "Epoch 160/200\n",
      "46/46 [==============================] - 0s 304us/step - loss: 0.0024\n",
      "Epoch 161/200\n",
      "46/46 [==============================] - 0s 391us/step - loss: 0.0024\n",
      "Epoch 162/200\n",
      "46/46 [==============================] - 0s 304us/step - loss: 0.0024\n",
      "Epoch 163/200\n",
      "46/46 [==============================] - 0s 326us/step - loss: 0.0024\n",
      "Epoch 164/200\n",
      "46/46 [==============================] - 0s 239us/step - loss: 0.0023\n",
      "Epoch 165/200\n",
      "46/46 [==============================] - 0s 370us/step - loss: 0.0023\n",
      "Epoch 166/200\n",
      "46/46 [==============================] - 0s 239us/step - loss: 0.0023\n",
      "Epoch 167/200\n",
      "46/46 [==============================] - 0s 239us/step - loss: 0.0023\n",
      "Epoch 168/200\n",
      "46/46 [==============================] - 0s 326us/step - loss: 0.0023\n",
      "Epoch 169/200\n",
      "46/46 [==============================] - 0s 282us/step - loss: 0.0023\n",
      "Epoch 170/200\n",
      "46/46 [==============================] - 0s 282us/step - loss: 0.0022\n",
      "Epoch 171/200\n",
      "46/46 [==============================] - 0s 282us/step - loss: 0.0022\n",
      "Epoch 172/200\n",
      "46/46 [==============================] - 0s 282us/step - loss: 0.0022\n",
      "Epoch 173/200\n",
      "46/46 [==============================] - 0s 196us/step - loss: 0.0022\n",
      "Epoch 174/200\n",
      "46/46 [==============================] - 0s 239us/step - loss: 0.0022\n",
      "Epoch 175/200\n",
      "46/46 [==============================] - 0s 261us/step - loss: 0.0022\n",
      "Epoch 176/200\n",
      "46/46 [==============================] - 0s 326us/step - loss: 0.0022\n",
      "Epoch 177/200\n",
      "46/46 [==============================] - 0s 195us/step - loss: 0.0022\n",
      "Epoch 178/200\n",
      "46/46 [==============================] - 0s 239us/step - loss: 0.0022\n",
      "Epoch 179/200\n",
      "46/46 [==============================] - ETA: 0s - loss: 0.002 - 0s 326us/step - loss: 0.0022\n",
      "Epoch 180/200\n",
      "46/46 [==============================] - 0s 282us/step - loss: 0.0022\n",
      "Epoch 181/200\n",
      "46/46 [==============================] - 0s 239us/step - loss: 0.0022\n",
      "Epoch 182/200\n",
      "46/46 [==============================] - 0s 326us/step - loss: 0.0022\n",
      "Epoch 183/200\n",
      "46/46 [==============================] - 0s 282us/step - loss: 0.0022\n",
      "Epoch 184/200\n",
      "46/46 [==============================] - 0s 196us/step - loss: 0.0022\n",
      "Epoch 185/200\n",
      "46/46 [==============================] - 0s 261us/step - loss: 0.0021\n",
      "Epoch 186/200\n",
      "46/46 [==============================] - 0s 326us/step - loss: 0.0021\n",
      "Epoch 187/200\n",
      "46/46 [==============================] - 0s 261us/step - loss: 0.0021\n",
      "Epoch 188/200\n",
      "46/46 [==============================] - 0s 261us/step - loss: 0.0021\n",
      "Epoch 189/200\n",
      "46/46 [==============================] - 0s 348us/step - loss: 0.0021\n",
      "Epoch 190/200\n",
      "46/46 [==============================] - ETA: 0s - loss: 0.002 - 0s 239us/step - loss: 0.0021\n",
      "Epoch 191/200\n",
      "46/46 [==============================] - 0s 261us/step - loss: 0.0021\n",
      "Epoch 192/200\n",
      "46/46 [==============================] - 0s 326us/step - loss: 0.0021\n",
      "Epoch 193/200\n",
      "46/46 [==============================] - 0s 261us/step - loss: 0.0021\n",
      "Epoch 194/200\n",
      "46/46 [==============================] - 0s 217us/step - loss: 0.0021\n",
      "Epoch 195/200\n",
      "46/46 [==============================] - 0s 326us/step - loss: 0.0021\n"
     ]
    },
    {
     "name": "stdout",
     "output_type": "stream",
     "text": [
      "Epoch 196/200\n",
      "46/46 [==============================] - 0s 261us/step - loss: 0.0021\n",
      "Epoch 197/200\n",
      "46/46 [==============================] - 0s 217us/step - loss: 0.0021\n",
      "Epoch 198/200\n",
      "46/46 [==============================] - 0s 304us/step - loss: 0.0021\n",
      "Epoch 199/200\n",
      "46/46 [==============================] - 0s 326us/step - loss: 0.0021\n",
      "Epoch 200/200\n",
      "46/46 [==============================] - 0s 261us/step - loss: 0.0021\n"
     ]
    },
    {
     "data": {
      "text/plain": [
       "<keras.callbacks.History at 0x1c17a13ff28>"
      ]
     },
     "execution_count": 90,
     "metadata": {},
     "output_type": "execute_result"
    }
   ],
   "source": [
    "# create and fit the LSTM network\n",
    "model = Sequential()\n",
    "model.add(LSTM(8, input_shape=(look_back, 1)))\n",
    "model.add(Dense(1))\n",
    "model.compile(loss='mse', optimizer='adam')\n",
    "model.fit(trainX, trainY, nb_epoch=200, batch_size=batch_size)"
   ]
  },
  {
   "cell_type": "code",
   "execution_count": 91,
   "metadata": {},
   "outputs": [],
   "source": [
    "# make predictions\n",
    "trainPredict = model.predict(trainX)"
   ]
  },
  {
   "cell_type": "code",
   "execution_count": 92,
   "metadata": {},
   "outputs": [],
   "source": [
    "trainPredict = scaler.inverse_transform(trainPredict)"
   ]
  },
  {
   "cell_type": "code",
   "execution_count": 134,
   "metadata": {},
   "outputs": [
    {
     "data": {
      "text/plain": [
       "array([[9.243623e+08]], dtype=float32)"
      ]
     },
     "execution_count": 134,
     "metadata": {},
     "output_type": "execute_result"
    }
   ],
   "source": [
    "pred"
   ]
  },
  {
   "cell_type": "code",
   "execution_count": 97,
   "metadata": {},
   "outputs": [],
   "source": [
    "# shift predictions of training data for plotting\n",
    "trainPredictPlot = np.empty_like(dataset)\n",
    "trainPredictPlot[:, :] = np.nan\n",
    "trainPredictPlot[look_back:len(trainPredict)+look_back, :] = trainPredict"
   ]
  },
  {
   "cell_type": "code",
   "execution_count": 99,
   "metadata": {},
   "outputs": [
    {
     "data": {
      "image/png": "[encoded data removed]",
      "text/plain": [
       "<matplotlib.figure.Figure at 0x1c17bfb2d30>"
      ]
     },
     "metadata": {},
     "output_type": "display_data"
    }
   ],
   "source": [
    "# plot baseline and predictions\n",
    "plt.plot(scaler.inverse_transform(dataset))\n",
    "plt.plot(trainPredictPlot)\n",
    "plt.show()"
   ]
  },
  {
   "cell_type": "code",
   "execution_count": 123,
   "metadata": {},
   "outputs": [
    {
     "data": {
      "text/plain": [
       "array([[0.        ],\n",
       "       [0.01054852],\n",
       "       [0.04219409],\n",
       "       [0.06329114]])"
      ]
     },
     "execution_count": 123,
     "metadata": {},
     "output_type": "execute_result"
    }
   ],
   "source": [
    "trainX[0]"
   ]
  },
  {
   "cell_type": "code",
   "execution_count": 121,
   "metadata": {},
   "outputs": [
    {
     "data": {
      "text/plain": [
       "[[0.8839662447257383],\n",
       " [0.9092827004219408],\n",
       " [0.9599156118143458],\n",
       " [0.9715189873417721]]"
      ]
     },
     "execution_count": 121,
     "metadata": {},
     "output_type": "execute_result"
    }
   ],
   "source": [
    "l = trainX[len(trainX) - 1]\n",
    "s = [list(x) for x in l]\n",
    "s"
   ]
  },
  {
   "cell_type": "code",
   "execution_count": 126,
   "metadata": {},
   "outputs": [
    {
     "data": {
      "text/plain": [
       "array([[[0.88396624],\n",
       "        [0.9092827 ],\n",
       "        [0.95991561],\n",
       "        [0.97151899]]])"
      ]
     },
     "execution_count": 126,
     "metadata": {},
     "output_type": "execute_result"
    }
   ],
   "source": [
    "t = np.array([s])\n",
    "t"
   ]
  },
  {
   "cell_type": "code",
   "execution_count": 127,
   "metadata": {},
   "outputs": [],
   "source": [
    "pred = model.predict(t)"
   ]
  },
  {
   "cell_type": "code",
   "execution_count": 130,
   "metadata": {},
   "outputs": [
    {
     "data": {
      "text/plain": [
       "[924362300.0]"
      ]
     },
     "execution_count": 130,
     "metadata": {},
     "output_type": "execute_result"
    }
   ],
   "source": [
    "pred = scaler.inverse_transform(pred)\n",
    "list(pred[0])"
   ]
  },
  {
   "cell_type": "code",
   "execution_count": 133,
   "metadata": {},
   "outputs": [
    {
     "data": {
      "text/plain": [
       "[[0.9092827004219408],\n",
       " [0.9599156118143458],\n",
       " [0.9715189873417721],\n",
       " [924362300.0]]"
      ]
     },
     "execution_count": 133,
     "metadata": {},
     "output_type": "execute_result"
    }
   ],
   "source": [
    "k = []\n",
    "for i in range(1, len(s)):\n",
    "    k.append(s[i])\n",
    "k.append(list(pred[0]))\n",
    "k"
   ]
  },
  {
   "cell_type": "code",
   "execution_count": 136,
   "metadata": {},
   "outputs": [
    {
     "name": "stdout",
     "output_type": "stream",
     "text": [
      "[[1028.508]]\n",
      "[[1074.8751]]\n",
      "[[1127.3496]]\n",
      "[[1181.7805]]\n",
      "[[1248.9644]]\n",
      "[[1316.2633]]\n",
      "[[1389.5437]]\n",
      "[[1468.7815]]\n",
      "[[1554.8303]]\n",
      "[[1645.6648]]\n"
     ]
    }
   ],
   "source": [
    "l = trainX[len(trainX) - 1]\n",
    "s = [list(x) for x in l]\n",
    "for it in range(10):\n",
    "    t = np.array([s])\n",
    "    pred = model.predict(t)\n",
    "    predt = scaler.inverse_transform(pred)\n",
    "    k = []\n",
    "    for i in range(1, len(s)):\n",
    "        k.append(s[i])\n",
    "    k.append(list(pred[0]))\n",
    "    s = k\n",
    "    print (predt)"
   ]
  },
  {
   "cell_type": "code",
   "execution_count": null,
   "metadata": {},
   "outputs": [],
   "source": []
  }
 ],
 "metadata": {
  "kernelspec": {
   "display_name": "Python 3",
   "language": "python",
   "name": "python3"
  },
  "language_info": {
   "codemirror_mode": {
    "name": "ipython",
    "version": 3
   },
   "file_extension": ".py",
   "mimetype": "text/x-python",
   "name": "python",
   "nbconvert_exporter": "python",
   "pygments_lexer": "ipython3",
   "version": "3.5.4"
  }
 },
 "nbformat": 4,
 "nbformat_minor": 2
}
